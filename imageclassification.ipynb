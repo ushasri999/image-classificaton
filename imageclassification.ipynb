{
  "nbformat": 4,
  "nbformat_minor": 0,
  "metadata": {
    "colab": {
      "provenance": [],
      "authorship_tag": "ABX9TyNEytkuBVpNd3v6UiD7vo1A",
      "include_colab_link": true
    },
    "kernelspec": {
      "name": "python3",
      "display_name": "Python 3"
    },
    "language_info": {
      "name": "python"
    }
  },
  "cells": [
    {
      "cell_type": "markdown",
      "metadata": {
        "id": "view-in-github",
        "colab_type": "text"
      },
      "source": [
        "<a href=\"https://colab.research.google.com/github/ushasri999/image-classificaton/blob/main/imageclassification.ipynb\" target=\"_parent\"><img src=\"https://colab.research.google.com/assets/colab-badge.svg\" alt=\"Open In Colab\"/></a>"
      ]
    },
    {
      "cell_type": "code",
      "execution_count": null,
      "metadata": {
        "id": "KvwDm44kofzd"
      },
      "outputs": [],
      "source": [
        "import tensorflow as tf\n",
        "from tensorflow.keras.datasets import cifar10\n",
        "from tensorflow.keras.preprocessing.image import ImageDataGenerator"
      ]
    },
    {
      "cell_type": "code",
      "source": [
        "(x_train, y_train), (x_test, y_test) = cifar10.load_data()"
      ],
      "metadata": {
        "colab": {
          "base_uri": "https://localhost:8080/"
        },
        "id": "q0IsqcNfo82l",
        "outputId": "7ea3e5ae-643e-4553-c152-75c04e86ef9f"
      },
      "execution_count": null,
      "outputs": [
        {
          "output_type": "stream",
          "name": "stdout",
          "text": [
            "Downloading data from https://www.cs.toronto.edu/~kriz/cifar-10-python.tar.gz\n",
            "170498071/170498071 [==============================] - 6s 0us/step\n"
          ]
        }
      ]
    },
    {
      "cell_type": "code",
      "source": [
        " x_train, x_test = x_train / 255.0, x_test / 255.0"
      ],
      "metadata": {
        "id": "GII0OekgpAFm"
      },
      "execution_count": null,
      "outputs": []
    },
    {
      "cell_type": "code",
      "source": [
        " train_datagen = ImageDataGenerator(\n",
        "    rotation_range=15,\n",
        "    width_shift_range=0.1,\n",
        "    height_shift_range=0.1,\n",
        "    horizontal_flip=True,\n",
        "    zoom_range=0.1)\n",
        "train_generator = train_datagen.flow(x_train, y_train, batch_size=32)\n",
        "\n",
        "val_datagen = ImageDataGenerator()\n",
        "val_generator = val_datagen.flow(x_test, y_test, batch_size=32)"
      ],
      "metadata": {
        "id": "gfhh614SpgZh"
      },
      "execution_count": null,
      "outputs": []
    },
    {
      "cell_type": "code",
      "source": [
        " train_datagen = ImageDataGenerator(\n",
        "    rotation_range=15,\n",
        "    width_shift_range=0.1,\n",
        "    height_shift_range=0.1,\n",
        "    horizontal_flip=True,\n",
        "    zoom_range=0.1)\n",
        "train_generator = train_datagen.flow(x_train, y_train, batch_size=32)\n",
        "\n",
        "val_datagen = ImageDataGenerator()\n",
        "val_generator = val_datagen.flow(x_test, y_test, batch_size=32)"
      ],
      "metadata": {
        "id": "bNMi9RJDpi5H"
      },
      "execution_count": null,
      "outputs": []
    },
    {
      "cell_type": "code",
      "source": [
        " model = tf.keras.models.Sequential([\n",
        "    tf.keras.layers.Conv2D(32, (3, 3), activation='relu', input_shape=(32, 32, 3)),\n",
        "    tf.keras.layers.MaxPooling2D((2, 2)),\n",
        "    tf.keras.layers.Conv2D(64, (3, 3), activation='relu'),\n",
        "    tf.keras.layers.MaxPooling2D((2, 2)),\n",
        "    tf.keras.layers.Conv2D(64, (3, 3), activation='relu'),\n",
        "    tf.keras.layers.Flatten(),\n",
        "    tf.keras.layers.Dense(64, activation='relu'),\n",
        "    tf.keras.layers.Dense(10, activation='softmax')\n",
        "])"
      ],
      "metadata": {
        "id": "-bmoZw4Gplxm"
      },
      "execution_count": null,
      "outputs": []
    },
    {
      "cell_type": "code",
      "source": [
        "model.compile(optimizer='adam',\n",
        "              loss='sparse_categorical_crossentropy',\n",
        "              metrics=['accuracy'])"
      ],
      "metadata": {
        "id": "PGYOpUmuprzc"
      },
      "execution_count": null,
      "outputs": []
    },
    {
      "cell_type": "code",
      "source": [
        " # Train the model\n",
        "model.fit(train_generator, epochs=10, validation_data=val_generator)\n",
        " "
      ],
      "metadata": {
        "colab": {
          "base_uri": "https://localhost:8080/"
        },
        "id": "2qalrvLGp--q",
        "outputId": "4b61aec5-e7ba-4031-a2a6-766fee012f89"
      },
      "execution_count": null,
      "outputs": [
        {
          "output_type": "stream",
          "name": "stdout",
          "text": [
            "Epoch 1/10\n",
            "1563/1563 [==============================] - 78s 49ms/step - loss: 1.6413 - accuracy: 0.1132 - val_loss: 1.3919 - val_accuracy: 0.0751\n",
            "Epoch 2/10\n",
            "1563/1563 [==============================] - 81s 52ms/step - loss: 1.3207 - accuracy: 0.0968 - val_loss: 1.2875 - val_accuracy: 0.0875\n",
            "Epoch 3/10\n",
            "1563/1563 [==============================] - 81s 52ms/step - loss: 1.2049 - accuracy: 0.0972 - val_loss: 1.0720 - val_accuracy: 0.0955\n",
            "Epoch 4/10\n",
            "1563/1563 [==============================] - 83s 53ms/step - loss: 1.1347 - accuracy: 0.0966 - val_loss: 0.9677 - val_accuracy: 0.0834\n",
            "Epoch 5/10\n",
            "1563/1563 [==============================] - 82s 53ms/step - loss: 1.0751 - accuracy: 0.0975 - val_loss: 0.9734 - val_accuracy: 0.0924\n",
            "Epoch 6/10\n",
            "1563/1563 [==============================] - 100s 64ms/step - loss: 1.0349 - accuracy: 0.0978 - val_loss: 0.9622 - val_accuracy: 0.1022\n",
            "Epoch 7/10\n",
            "1563/1563 [==============================] - 104s 66ms/step - loss: 1.0019 - accuracy: 0.0983 - val_loss: 0.9178 - val_accuracy: 0.0876\n",
            "Epoch 8/10\n",
            "1563/1563 [==============================] - 97s 62ms/step - loss: 0.9757 - accuracy: 0.0997 - val_loss: 0.9219 - val_accuracy: 0.1074\n",
            "Epoch 9/10\n",
            "1563/1563 [==============================] - 95s 61ms/step - loss: 0.9506 - accuracy: 0.0995 - val_loss: 0.8882 - val_accuracy: 0.1143\n",
            "Epoch 10/10\n",
            "1563/1563 [==============================] - 94s 60ms/step - loss: 0.9240 - accuracy: 0.0991 - val_loss: 0.8682 - val_accuracy: 0.0879\n"
          ]
        },
        {
          "output_type": "execute_result",
          "data": {
            "text/plain": [
              "<keras.callbacks.History at 0x7f9541e94880>"
            ]
          },
          "metadata": {},
          "execution_count": 9
        }
      ]
    },
    {
      "cell_type": "code",
      "source": [
        " # Evaluate the model on the test set\n",
        "loss, accuracy = model.evaluate(x_test, y_test)\n",
        "print('Test accuracy:', accuracy)"
      ],
      "metadata": {
        "colab": {
          "base_uri": "https://localhost:8080/"
        },
        "id": "hHHYZqUPqIeC",
        "outputId": "161d35e1-c2a2-44c3-828f-b00ce768564a"
      },
      "execution_count": null,
      "outputs": [
        {
          "output_type": "stream",
          "name": "stdout",
          "text": [
            "313/313 [==============================] - 6s 18ms/step - loss: 0.8682 - accuracy: 0.0879\n",
            "Test accuracy: 0.08789999783039093\n"
          ]
        }
      ]
    },
    {
      "cell_type": "code",
      "source": [],
      "metadata": {
        "id": "gjGJYIwoue54"
      },
      "execution_count": null,
      "outputs": []
    },
    {
      "cell_type": "markdown",
      "source": [],
      "metadata": {
        "id": "4cu8XaWT3kRw"
      }
    }
  ]
}